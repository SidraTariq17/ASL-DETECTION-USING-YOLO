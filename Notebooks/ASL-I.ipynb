{
 "cells": [
  {
   "cell_type": "code",
   "execution_count": 1,
   "id": "c5f9209e",
   "metadata": {
    "_cell_guid": "b1076dfc-b9ad-4769-8c92-a6c4dae69d19",
    "_uuid": "8f2839f25d086af736a60e9eeb907d3b93b6e0e5",
    "execution": {
     "iopub.execute_input": "2024-10-27T01:09:03.795912Z",
     "iopub.status.busy": "2024-10-27T01:09:03.795552Z",
     "iopub.status.idle": "2024-10-27T01:09:03.804643Z",
     "shell.execute_reply": "2024-10-27T01:09:03.803885Z"
    },
    "papermill": {
     "duration": 0.016389,
     "end_time": "2024-10-27T01:09:03.806589",
     "exception": false,
     "start_time": "2024-10-27T01:09:03.790200",
     "status": "completed"
    },
    "tags": []
   },
   "outputs": [],
   "source": [
    "import os\n",
    "\n",
    "import glob\n",
    "     \n",
    "from IPython.display import Image, display"
   ]
  },
  {
   "cell_type": "code",
   "execution_count": 2,
   "id": "f5c30836",
   "metadata": {
    "execution": {
     "iopub.execute_input": "2024-10-27T01:09:03.815231Z",
     "iopub.status.busy": "2024-10-27T01:09:03.814954Z",
     "iopub.status.idle": "2024-10-27T01:09:03.819530Z",
     "shell.execute_reply": "2024-10-27T01:09:03.818804Z"
    },
    "papermill": {
     "duration": 0.010743,
     "end_time": "2024-10-27T01:09:03.821337",
     "exception": false,
     "start_time": "2024-10-27T01:09:03.810594",
     "status": "completed"
    },
    "tags": []
   },
   "outputs": [],
   "source": [
    "from IPython import display\n",
    "     \n",
    "\n",
    "display.clear_output()"
   ]
  },
  {
   "cell_type": "code",
   "execution_count": 3,
   "id": "28f732a0",
   "metadata": {
    "execution": {
     "iopub.execute_input": "2024-10-27T01:09:03.830016Z",
     "iopub.status.busy": "2024-10-27T01:09:03.829475Z",
     "iopub.status.idle": "2024-10-27T01:09:04.955227Z",
     "shell.execute_reply": "2024-10-27T01:09:04.954329Z"
    },
    "papermill": {
     "duration": 1.132551,
     "end_time": "2024-10-27T01:09:04.957532",
     "exception": false,
     "start_time": "2024-10-27T01:09:03.824981",
     "status": "completed"
    },
    "tags": []
   },
   "outputs": [
    {
     "name": "stdout",
     "output_type": "stream",
     "text": [
      "Sun Oct 27 01:09:04 2024       \r\n",
      "+-----------------------------------------------------------------------------------------+\r\n",
      "| NVIDIA-SMI 550.90.07              Driver Version: 550.90.07      CUDA Version: 12.4     |\r\n",
      "|-----------------------------------------+------------------------+----------------------+\r\n",
      "| GPU  Name                 Persistence-M | Bus-Id          Disp.A | Volatile Uncorr. ECC |\r\n",
      "| Fan  Temp   Perf          Pwr:Usage/Cap |           Memory-Usage | GPU-Util  Compute M. |\r\n",
      "|                                         |                        |               MIG M. |\r\n",
      "|=========================================+========================+======================|\r\n",
      "|   0  Tesla T4                       Off |   00000000:00:04.0 Off |                    0 |\r\n",
      "| N/A   31C    P8              9W /   70W |       1MiB /  15360MiB |      0%      Default |\r\n",
      "|                                         |                        |                  N/A |\r\n",
      "+-----------------------------------------+------------------------+----------------------+\r\n",
      "|   1  Tesla T4                       Off |   00000000:00:05.0 Off |                    0 |\r\n",
      "| N/A   35C    P8              9W /   70W |       1MiB /  15360MiB |      0%      Default |\r\n",
      "|                                         |                        |                  N/A |\r\n",
      "+-----------------------------------------+------------------------+----------------------+\r\n",
      "                                                                                         \r\n",
      "+-----------------------------------------------------------------------------------------+\r\n",
      "| Processes:                                                                              |\r\n",
      "|  GPU   GI   CI        PID   Type   Process name                              GPU Memory |\r\n",
      "|        ID   ID                                                               Usage      |\r\n",
      "|=========================================================================================|\r\n",
      "|  No running processes found                                                             |\r\n",
      "+-----------------------------------------------------------------------------------------+\r\n"
     ]
    }
   ],
   "source": [
    "!nvidia-smi"
   ]
  },
  {
   "cell_type": "code",
   "execution_count": 4,
   "id": "57153443",
   "metadata": {
    "execution": {
     "iopub.execute_input": "2024-10-27T01:09:04.966962Z",
     "iopub.status.busy": "2024-10-27T01:09:04.966654Z",
     "iopub.status.idle": "2024-10-27T01:09:04.971516Z",
     "shell.execute_reply": "2024-10-27T01:09:04.970645Z"
    },
    "papermill": {
     "duration": 0.012012,
     "end_time": "2024-10-27T01:09:04.973665",
     "exception": false,
     "start_time": "2024-10-27T01:09:04.961653",
     "status": "completed"
    },
    "tags": []
   },
   "outputs": [
    {
     "name": "stdout",
     "output_type": "stream",
     "text": [
      "/kaggle/working\n"
     ]
    }
   ],
   "source": [
    "HOME = os.getcwd()\n",
    "     \n",
    "\n",
    "print(HOME)"
   ]
  },
  {
   "cell_type": "code",
   "execution_count": 5,
   "id": "874cacda",
   "metadata": {
    "execution": {
     "iopub.execute_input": "2024-10-27T01:09:04.982491Z",
     "iopub.status.busy": "2024-10-27T01:09:04.982202Z",
     "iopub.status.idle": "2024-10-27T01:09:19.271351Z",
     "shell.execute_reply": "2024-10-27T01:09:19.270444Z"
    },
    "papermill": {
     "duration": 14.296157,
     "end_time": "2024-10-27T01:09:19.273788",
     "exception": false,
     "start_time": "2024-10-27T01:09:04.977631",
     "status": "completed"
    },
    "tags": []
   },
   "outputs": [
    {
     "name": "stdout",
     "output_type": "stream",
     "text": [
      "Collecting ultralytics\r\n",
      "  Downloading ultralytics-8.3.23-py3-none-any.whl.metadata (35 kB)\r\n",
      "Requirement already satisfied: numpy>=1.23.0 in /opt/conda/lib/python3.10/site-packages (from ultralytics) (1.26.4)\r\n",
      "Requirement already satisfied: matplotlib>=3.3.0 in /opt/conda/lib/python3.10/site-packages (from ultralytics) (3.7.5)\r\n",
      "Requirement already satisfied: opencv-python>=4.6.0 in /opt/conda/lib/python3.10/site-packages (from ultralytics) (4.10.0.84)\r\n",
      "Requirement already satisfied: pillow>=7.1.2 in /opt/conda/lib/python3.10/site-packages (from ultralytics) (10.3.0)\r\n",
      "Requirement already satisfied: pyyaml>=5.3.1 in /opt/conda/lib/python3.10/site-packages (from ultralytics) (6.0.2)\r\n",
      "Requirement already satisfied: requests>=2.23.0 in /opt/conda/lib/python3.10/site-packages (from ultralytics) (2.32.3)\r\n",
      "Requirement already satisfied: scipy>=1.4.1 in /opt/conda/lib/python3.10/site-packages (from ultralytics) (1.14.1)\r\n",
      "Requirement already satisfied: torch>=1.8.0 in /opt/conda/lib/python3.10/site-packages (from ultralytics) (2.4.0)\r\n",
      "Requirement already satisfied: torchvision>=0.9.0 in /opt/conda/lib/python3.10/site-packages (from ultralytics) (0.19.0)\r\n",
      "Requirement already satisfied: tqdm>=4.64.0 in /opt/conda/lib/python3.10/site-packages (from ultralytics) (4.66.4)\r\n",
      "Requirement already satisfied: psutil in /opt/conda/lib/python3.10/site-packages (from ultralytics) (5.9.3)\r\n",
      "Requirement already satisfied: py-cpuinfo in /opt/conda/lib/python3.10/site-packages (from ultralytics) (9.0.0)\r\n",
      "Requirement already satisfied: pandas>=1.1.4 in /opt/conda/lib/python3.10/site-packages (from ultralytics) (2.2.2)\r\n",
      "Requirement already satisfied: seaborn>=0.11.0 in /opt/conda/lib/python3.10/site-packages (from ultralytics) (0.12.2)\r\n",
      "Collecting ultralytics-thop>=2.0.0 (from ultralytics)\r\n",
      "  Downloading ultralytics_thop-2.0.9-py3-none-any.whl.metadata (9.3 kB)\r\n",
      "Requirement already satisfied: contourpy>=1.0.1 in /opt/conda/lib/python3.10/site-packages (from matplotlib>=3.3.0->ultralytics) (1.2.1)\r\n",
      "Requirement already satisfied: cycler>=0.10 in /opt/conda/lib/python3.10/site-packages (from matplotlib>=3.3.0->ultralytics) (0.12.1)\r\n",
      "Requirement already satisfied: fonttools>=4.22.0 in /opt/conda/lib/python3.10/site-packages (from matplotlib>=3.3.0->ultralytics) (4.53.0)\r\n",
      "Requirement already satisfied: kiwisolver>=1.0.1 in /opt/conda/lib/python3.10/site-packages (from matplotlib>=3.3.0->ultralytics) (1.4.5)\r\n",
      "Requirement already satisfied: packaging>=20.0 in /opt/conda/lib/python3.10/site-packages (from matplotlib>=3.3.0->ultralytics) (21.3)\r\n",
      "Requirement already satisfied: pyparsing>=2.3.1 in /opt/conda/lib/python3.10/site-packages (from matplotlib>=3.3.0->ultralytics) (3.1.2)\r\n",
      "Requirement already satisfied: python-dateutil>=2.7 in /opt/conda/lib/python3.10/site-packages (from matplotlib>=3.3.0->ultralytics) (2.9.0.post0)\r\n",
      "Requirement already satisfied: pytz>=2020.1 in /opt/conda/lib/python3.10/site-packages (from pandas>=1.1.4->ultralytics) (2024.1)\r\n",
      "Requirement already satisfied: tzdata>=2022.7 in /opt/conda/lib/python3.10/site-packages (from pandas>=1.1.4->ultralytics) (2024.1)\r\n",
      "Requirement already satisfied: charset-normalizer<4,>=2 in /opt/conda/lib/python3.10/site-packages (from requests>=2.23.0->ultralytics) (3.3.2)\r\n",
      "Requirement already satisfied: idna<4,>=2.5 in /opt/conda/lib/python3.10/site-packages (from requests>=2.23.0->ultralytics) (3.7)\r\n",
      "Requirement already satisfied: urllib3<3,>=1.21.1 in /opt/conda/lib/python3.10/site-packages (from requests>=2.23.0->ultralytics) (1.26.18)\r\n",
      "Requirement already satisfied: certifi>=2017.4.17 in /opt/conda/lib/python3.10/site-packages (from requests>=2.23.0->ultralytics) (2024.8.30)\r\n",
      "Requirement already satisfied: filelock in /opt/conda/lib/python3.10/site-packages (from torch>=1.8.0->ultralytics) (3.15.1)\r\n",
      "Requirement already satisfied: typing-extensions>=4.8.0 in /opt/conda/lib/python3.10/site-packages (from torch>=1.8.0->ultralytics) (4.12.2)\r\n",
      "Requirement already satisfied: sympy in /opt/conda/lib/python3.10/site-packages (from torch>=1.8.0->ultralytics) (1.13.3)\r\n",
      "Requirement already satisfied: networkx in /opt/conda/lib/python3.10/site-packages (from torch>=1.8.0->ultralytics) (3.3)\r\n",
      "Requirement already satisfied: jinja2 in /opt/conda/lib/python3.10/site-packages (from torch>=1.8.0->ultralytics) (3.1.4)\r\n",
      "Requirement already satisfied: fsspec in /opt/conda/lib/python3.10/site-packages (from torch>=1.8.0->ultralytics) (2024.6.1)\r\n",
      "Requirement already satisfied: six>=1.5 in /opt/conda/lib/python3.10/site-packages (from python-dateutil>=2.7->matplotlib>=3.3.0->ultralytics) (1.16.0)\r\n",
      "Requirement already satisfied: MarkupSafe>=2.0 in /opt/conda/lib/python3.10/site-packages (from jinja2->torch>=1.8.0->ultralytics) (2.1.5)\r\n",
      "Requirement already satisfied: mpmath<1.4,>=1.1.0 in /opt/conda/lib/python3.10/site-packages (from sympy->torch>=1.8.0->ultralytics) (1.3.0)\r\n",
      "Downloading ultralytics-8.3.23-py3-none-any.whl (877 kB)\r\n",
      "\u001b[2K   \u001b[90m━━━━━━━━━━━━━━━━━━━━━━━━━━━━━━━━━━━━━━━━\u001b[0m \u001b[32m877.6/877.6 kB\u001b[0m \u001b[31m16.7 MB/s\u001b[0m eta \u001b[36m0:00:00\u001b[0m\r\n",
      "\u001b[?25hDownloading ultralytics_thop-2.0.9-py3-none-any.whl (26 kB)\r\n",
      "Installing collected packages: ultralytics-thop, ultralytics\r\n",
      "Successfully installed ultralytics-8.3.23 ultralytics-thop-2.0.9\r\n"
     ]
    }
   ],
   "source": [
    "!pip install ultralytics"
   ]
  },
  {
   "cell_type": "code",
   "execution_count": 6,
   "id": "eeb270c4",
   "metadata": {
    "execution": {
     "iopub.execute_input": "2024-10-27T01:09:19.286776Z",
     "iopub.status.busy": "2024-10-27T01:09:19.286468Z",
     "iopub.status.idle": "2024-10-27T01:09:40.506574Z",
     "shell.execute_reply": "2024-10-27T01:09:40.505636Z"
    },
    "papermill": {
     "duration": 21.229327,
     "end_time": "2024-10-27T01:09:40.508569",
     "exception": false,
     "start_time": "2024-10-27T01:09:19.279242",
     "status": "completed"
    },
    "tags": []
   },
   "outputs": [
    {
     "name": "stdout",
     "output_type": "stream",
     "text": [
      "Ultralytics 8.3.23 🚀 Python-3.10.14 torch-2.4.0 CUDA:0 (Tesla T4, 15095MiB)\n",
      "Setup complete ✅ (4 CPUs, 31.4 GB RAM, 5933.9/8062.4 GB disk)\n"
     ]
    }
   ],
   "source": [
    "import ultralytics\n",
    "     \n",
    "\n",
    "ultralytics.checks()\n",
    "     "
   ]
  },
  {
   "cell_type": "code",
   "execution_count": 7,
   "id": "a46f9d70",
   "metadata": {
    "execution": {
     "iopub.execute_input": "2024-10-27T01:09:40.520667Z",
     "iopub.status.busy": "2024-10-27T01:09:40.520282Z",
     "iopub.status.idle": "2024-10-27T01:09:53.349676Z",
     "shell.execute_reply": "2024-10-27T01:09:53.348614Z"
    },
    "papermill": {
     "duration": 12.838041,
     "end_time": "2024-10-27T01:09:53.352135",
     "exception": false,
     "start_time": "2024-10-27T01:09:40.514094",
     "status": "completed"
    },
    "tags": []
   },
   "outputs": [
    {
     "name": "stdout",
     "output_type": "stream",
     "text": [
      "/kaggle/working/datasets\n",
      "Collecting roboflow\r\n",
      "  Downloading roboflow-1.1.48-py3-none-any.whl.metadata (9.7 kB)\r\n",
      "Requirement already satisfied: certifi in /opt/conda/lib/python3.10/site-packages (from roboflow) (2024.8.30)\r\n",
      "Requirement already satisfied: idna==3.7 in /opt/conda/lib/python3.10/site-packages (from roboflow) (3.7)\r\n",
      "Requirement already satisfied: cycler in /opt/conda/lib/python3.10/site-packages (from roboflow) (0.12.1)\r\n",
      "Requirement already satisfied: kiwisolver>=1.3.1 in /opt/conda/lib/python3.10/site-packages (from roboflow) (1.4.5)\r\n",
      "Requirement already satisfied: matplotlib in /opt/conda/lib/python3.10/site-packages (from roboflow) (3.7.5)\r\n",
      "Requirement already satisfied: numpy>=1.18.5 in /opt/conda/lib/python3.10/site-packages (from roboflow) (1.26.4)\r\n",
      "Requirement already satisfied: opencv-python-headless==4.10.0.84 in /opt/conda/lib/python3.10/site-packages (from roboflow) (4.10.0.84)\r\n",
      "Requirement already satisfied: Pillow>=7.1.2 in /opt/conda/lib/python3.10/site-packages (from roboflow) (10.3.0)\r\n",
      "Requirement already satisfied: python-dateutil in /opt/conda/lib/python3.10/site-packages (from roboflow) (2.9.0.post0)\r\n",
      "Requirement already satisfied: python-dotenv in /opt/conda/lib/python3.10/site-packages (from roboflow) (1.0.1)\r\n",
      "Requirement already satisfied: requests in /opt/conda/lib/python3.10/site-packages (from roboflow) (2.32.3)\r\n",
      "Requirement already satisfied: six in /opt/conda/lib/python3.10/site-packages (from roboflow) (1.16.0)\r\n",
      "Requirement already satisfied: urllib3>=1.26.6 in /opt/conda/lib/python3.10/site-packages (from roboflow) (1.26.18)\r\n",
      "Requirement already satisfied: tqdm>=4.41.0 in /opt/conda/lib/python3.10/site-packages (from roboflow) (4.66.4)\r\n",
      "Requirement already satisfied: PyYAML>=5.3.1 in /opt/conda/lib/python3.10/site-packages (from roboflow) (6.0.2)\r\n",
      "Requirement already satisfied: requests-toolbelt in /opt/conda/lib/python3.10/site-packages (from roboflow) (0.10.1)\r\n",
      "Collecting filetype (from roboflow)\r\n",
      "  Downloading filetype-1.2.0-py2.py3-none-any.whl.metadata (6.5 kB)\r\n",
      "Requirement already satisfied: contourpy>=1.0.1 in /opt/conda/lib/python3.10/site-packages (from matplotlib->roboflow) (1.2.1)\r\n",
      "Requirement already satisfied: fonttools>=4.22.0 in /opt/conda/lib/python3.10/site-packages (from matplotlib->roboflow) (4.53.0)\r\n",
      "Requirement already satisfied: packaging>=20.0 in /opt/conda/lib/python3.10/site-packages (from matplotlib->roboflow) (21.3)\r\n",
      "Requirement already satisfied: pyparsing>=2.3.1 in /opt/conda/lib/python3.10/site-packages (from matplotlib->roboflow) (3.1.2)\r\n",
      "Requirement already satisfied: charset-normalizer<4,>=2 in /opt/conda/lib/python3.10/site-packages (from requests->roboflow) (3.3.2)\r\n",
      "Downloading roboflow-1.1.48-py3-none-any.whl (80 kB)\r\n",
      "\u001b[2K   \u001b[90m━━━━━━━━━━━━━━━━━━━━━━━━━━━━━━━━━━━━━━━━\u001b[0m \u001b[32m80.3/80.3 kB\u001b[0m \u001b[31m2.6 MB/s\u001b[0m eta \u001b[36m0:00:00\u001b[0m\r\n",
      "\u001b[?25hDownloading filetype-1.2.0-py2.py3-none-any.whl (19 kB)\r\n",
      "Installing collected packages: filetype, roboflow\r\n",
      "Successfully installed filetype-1.2.0 roboflow-1.1.48\r\n"
     ]
    }
   ],
   "source": [
    "!mkdir {HOME}/datasets\n",
    "%cd {HOME}/datasets\n",
    "\n",
    "!pip install roboflow"
   ]
  },
  {
   "cell_type": "code",
   "execution_count": 8,
   "id": "2919314b",
   "metadata": {
    "execution": {
     "iopub.execute_input": "2024-10-27T01:09:53.366643Z",
     "iopub.status.busy": "2024-10-27T01:09:53.366274Z",
     "iopub.status.idle": "2024-10-27T01:09:56.249566Z",
     "shell.execute_reply": "2024-10-27T01:09:56.248575Z"
    },
    "papermill": {
     "duration": 2.892954,
     "end_time": "2024-10-27T01:09:56.251535",
     "exception": false,
     "start_time": "2024-10-27T01:09:53.358581",
     "status": "completed"
    },
    "tags": []
   },
   "outputs": [
    {
     "name": "stdout",
     "output_type": "stream",
     "text": [
      "loading Roboflow workspace...\n",
      "loading Roboflow project...\n"
     ]
    },
    {
     "name": "stderr",
     "output_type": "stream",
     "text": [
      "Downloading Dataset Version Zip in American-Sign-Language-Letters-1 to yolov8:: 100%|██████████| 23020/23020 [00:00<00:00, 34201.33it/s]"
     ]
    },
    {
     "name": "stdout",
     "output_type": "stream",
     "text": [
      "\n"
     ]
    },
    {
     "name": "stderr",
     "output_type": "stream",
     "text": [
      "\n",
      "Extracting Dataset Version Zip to American-Sign-Language-Letters-1 in yolov8:: 100%|██████████| 3468/3468 [00:00<00:00, 9775.66it/s]\n"
     ]
    }
   ],
   "source": [
    "from roboflow import Roboflow\n",
    "rf = Roboflow(api_key=\"hMy9moATp2etps0iwcok\")\n",
    "project = rf.workspace(\"david-lee-d0rhs\").project(\"american-sign-language-letters\")\n",
    "version = project.version(1)\n",
    "dataset = version.download(\"yolov8\")"
   ]
  },
  {
   "cell_type": "code",
   "execution_count": 9,
   "id": "53d82083",
   "metadata": {
    "execution": {
     "iopub.execute_input": "2024-10-27T01:09:56.269121Z",
     "iopub.status.busy": "2024-10-27T01:09:56.268775Z",
     "iopub.status.idle": "2024-10-27T01:09:56.275759Z",
     "shell.execute_reply": "2024-10-27T01:09:56.274923Z"
    },
    "papermill": {
     "duration": 0.018328,
     "end_time": "2024-10-27T01:09:56.277797",
     "exception": false,
     "start_time": "2024-10-27T01:09:56.259469",
     "status": "completed"
    },
    "tags": []
   },
   "outputs": [
    {
     "name": "stdout",
     "output_type": "stream",
     "text": [
      "/kaggle/working\n",
      "/kaggle/working/datasets/American-Sign-Language-Letters-1\n"
     ]
    }
   ],
   "source": [
    "\n",
    "%cd {HOME}\n",
    "%cd {dataset.location}"
   ]
  },
  {
   "cell_type": "code",
   "execution_count": 10,
   "id": "67445509",
   "metadata": {
    "execution": {
     "iopub.execute_input": "2024-10-27T01:09:56.295490Z",
     "iopub.status.busy": "2024-10-27T01:09:56.295197Z",
     "iopub.status.idle": "2024-10-27T02:54:20.414970Z",
     "shell.execute_reply": "2024-10-27T02:54:20.413777Z"
    },
    "papermill": {
     "duration": 6264.131061,
     "end_time": "2024-10-27T02:54:20.417466",
     "exception": false,
     "start_time": "2024-10-27T01:09:56.286405",
     "status": "completed"
    },
    "tags": []
   },
   "outputs": [
    {
     "name": "stdout",
     "output_type": "stream",
     "text": [
      "Downloading https://github.com/ultralytics/assets/releases/download/v8.3.0/yolov8l.pt to 'yolov8l.pt'...\r\n",
      "100%|███████████████████████████████████████| 83.7M/83.7M [00:00<00:00, 115MB/s]\r\n",
      "Ultralytics 8.3.23 🚀 Python-3.10.14 torch-2.4.0 CUDA:0 (Tesla T4, 15095MiB)\r\n",
      "\u001b[34m\u001b[1mengine/trainer: \u001b[0mtask=detect, mode=train, model=yolov8l.pt, data=/kaggle/working/datasets/American-Sign-Language-Letters-1/data.yaml, epochs=50, time=None, patience=100, batch=16, imgsz=800, save=True, save_period=-1, cache=False, device=None, workers=8, project=ASL_Project, name=final_training, exist_ok=False, pretrained=True, optimizer=auto, verbose=True, seed=0, deterministic=True, single_cls=False, rect=False, cos_lr=False, close_mosaic=10, resume=False, amp=True, fraction=1.0, profile=False, freeze=None, multi_scale=False, overlap_mask=True, mask_ratio=4, dropout=0.0, val=True, split=val, save_json=False, save_hybrid=False, conf=None, iou=0.7, max_det=300, half=False, dnn=False, plots=True, source=None, vid_stride=1, stream_buffer=False, visualize=False, augment=False, agnostic_nms=False, classes=None, retina_masks=False, embed=None, show=False, save_frames=False, save_txt=False, save_conf=False, save_crop=False, show_labels=True, show_conf=True, show_boxes=True, line_width=None, format=torchscript, keras=False, optimize=False, int8=False, dynamic=False, simplify=True, opset=None, workspace=4, nms=False, lr0=0.01, lrf=0.01, momentum=0.937, weight_decay=0.0005, warmup_epochs=3.0, warmup_momentum=0.8, warmup_bias_lr=0.1, box=7.5, cls=0.5, dfl=1.5, pose=12.0, kobj=1.0, label_smoothing=0.0, nbs=64, hsv_h=0.015, hsv_s=0.7, hsv_v=0.4, degrees=0.0, translate=0.1, scale=0.5, shear=0.0, perspective=0.0, flipud=0.0, fliplr=0.5, bgr=0.0, mosaic=1.0, mixup=0.0, copy_paste=0.0, copy_paste_mode=flip, auto_augment=randaugment, erasing=0.4, crop_fraction=1.0, cfg=None, tracker=botsort.yaml, save_dir=ASL_Project/final_training\r\n",
      "Downloading https://ultralytics.com/assets/Arial.ttf to '/root/.config/Ultralytics/Arial.ttf'...\r\n",
      "100%|████████████████████████████████████████| 755k/755k [00:00<00:00, 18.8MB/s]\r\n",
      "Overriding model.yaml nc=80 with nc=26\r\n",
      "\r\n",
      "                   from  n    params  module                                       arguments                     \r\n",
      "  0                  -1  1      1856  ultralytics.nn.modules.conv.Conv             [3, 64, 3, 2]                 \r\n",
      "  1                  -1  1     73984  ultralytics.nn.modules.conv.Conv             [64, 128, 3, 2]               \r\n",
      "  2                  -1  3    279808  ultralytics.nn.modules.block.C2f             [128, 128, 3, True]           \r\n",
      "  3                  -1  1    295424  ultralytics.nn.modules.conv.Conv             [128, 256, 3, 2]              \r\n",
      "  4                  -1  6   2101248  ultralytics.nn.modules.block.C2f             [256, 256, 6, True]           \r\n",
      "  5                  -1  1   1180672  ultralytics.nn.modules.conv.Conv             [256, 512, 3, 2]              \r\n",
      "  6                  -1  6   8396800  ultralytics.nn.modules.block.C2f             [512, 512, 6, True]           \r\n",
      "  7                  -1  1   2360320  ultralytics.nn.modules.conv.Conv             [512, 512, 3, 2]              \r\n",
      "  8                  -1  3   4461568  ultralytics.nn.modules.block.C2f             [512, 512, 3, True]           \r\n",
      "  9                  -1  1    656896  ultralytics.nn.modules.block.SPPF            [512, 512, 5]                 \r\n",
      " 10                  -1  1         0  torch.nn.modules.upsampling.Upsample         [None, 2, 'nearest']          \r\n",
      " 11             [-1, 6]  1         0  ultralytics.nn.modules.conv.Concat           [1]                           \r\n",
      " 12                  -1  3   4723712  ultralytics.nn.modules.block.C2f             [1024, 512, 3]                \r\n",
      " 13                  -1  1         0  torch.nn.modules.upsampling.Upsample         [None, 2, 'nearest']          \r\n",
      " 14             [-1, 4]  1         0  ultralytics.nn.modules.conv.Concat           [1]                           \r\n",
      " 15                  -1  3   1247744  ultralytics.nn.modules.block.C2f             [768, 256, 3]                 \r\n",
      " 16                  -1  1    590336  ultralytics.nn.modules.conv.Conv             [256, 256, 3, 2]              \r\n",
      " 17            [-1, 12]  1         0  ultralytics.nn.modules.conv.Concat           [1]                           \r\n",
      " 18                  -1  3   4592640  ultralytics.nn.modules.block.C2f             [768, 512, 3]                 \r\n",
      " 19                  -1  1   2360320  ultralytics.nn.modules.conv.Conv             [512, 512, 3, 2]              \r\n",
      " 20             [-1, 9]  1         0  ultralytics.nn.modules.conv.Concat           [1]                           \r\n",
      " 21                  -1  3   4723712  ultralytics.nn.modules.block.C2f             [1024, 512, 3]                \r\n",
      " 22        [15, 18, 21]  1   5602846  ultralytics.nn.modules.head.Detect           [26, [256, 512, 512]]         \r\n",
      "Model summary: 365 layers, 43,649,886 parameters, 43,649,870 gradients, 165.5 GFLOPs\r\n",
      "\r\n",
      "Transferred 589/595 items from pretrained weights\r\n",
      "\u001b[34m\u001b[1mTensorBoard: \u001b[0mStart with 'tensorboard --logdir ASL_Project/final_training', view at http://localhost:6006/\r\n",
      "Freezing layer 'model.22.dfl.conv.weight'\r\n",
      "\u001b[34m\u001b[1mAMP: \u001b[0mrunning Automatic Mixed Precision (AMP) checks...\r\n",
      "Downloading https://github.com/ultralytics/assets/releases/download/v8.3.0/yolo11n.pt to 'yolo11n.pt'...\r\n",
      "100%|███████████████████████████████████████| 5.35M/5.35M [00:00<00:00, 104MB/s]\r\n",
      "\u001b[34m\u001b[1mAMP: \u001b[0mchecks passed ✅\r\n",
      "\u001b[34m\u001b[1mtrain: \u001b[0mScanning /kaggle/working/datasets/American-Sign-Language-Letters-1/train/\u001b[0m\r\n",
      "\u001b[34m\u001b[1mtrain: \u001b[0mNew cache created: /kaggle/working/datasets/American-Sign-Language-Letters-1/train/labels.cache\r\n",
      "/opt/conda/lib/python3.10/site-packages/albumentations/__init__.py:13: UserWarning: A new version of Albumentations is available: 1.4.20 (you have 1.4.17). Upgrade using: pip install -U albumentations. To disable automatic update checks, set the environment variable NO_ALBUMENTATIONS_UPDATE to 1.\r\n",
      "  check_for_updates()\r\n",
      "\u001b[34m\u001b[1malbumentations: \u001b[0mBlur(p=0.01, blur_limit=(3, 7)), MedianBlur(p=0.01, blur_limit=(3, 7)), ToGray(p=0.01, num_output_channels=3, method='weighted_average'), CLAHE(p=0.01, clip_limit=(1, 4.0), tile_grid_size=(8, 8))\r\n",
      "/opt/conda/lib/python3.10/multiprocessing/popen_fork.py:66: RuntimeWarning: os.fork() was called. os.fork() is incompatible with multithreaded code, and JAX is multithreaded, so this will likely lead to a deadlock.\r\n",
      "  self.pid = os.fork()\r\n",
      "\u001b[34m\u001b[1mval: \u001b[0mScanning /kaggle/working/datasets/American-Sign-Language-Letters-1/valid/la\u001b[0m\r\n",
      "\u001b[34m\u001b[1mval: \u001b[0mNew cache created: /kaggle/working/datasets/American-Sign-Language-Letters-1/valid/labels.cache\r\n",
      "Plotting labels to ASL_Project/final_training/labels.jpg... \r\n",
      "\u001b[34m\u001b[1moptimizer:\u001b[0m 'optimizer=auto' found, ignoring 'lr0=0.01' and 'momentum=0.937' and determining best 'optimizer', 'lr0' and 'momentum' automatically... \r\n",
      "\u001b[34m\u001b[1moptimizer:\u001b[0m AdamW(lr=0.000333, momentum=0.9) with parameter groups 97 weight(decay=0.0), 104 weight(decay=0.0005), 103 bias(decay=0.0)\r\n",
      "\u001b[34m\u001b[1mTensorBoard: \u001b[0mmodel graph visualization added ✅\r\n",
      "Image sizes 800 train, 800 val\r\n",
      "Using 2 dataloader workers\r\n",
      "Logging results to \u001b[1mASL_Project/final_training\u001b[0m\r\n",
      "Starting training for 50 epochs...\r\n",
      "\r\n",
      "      Epoch    GPU_mem   box_loss   cls_loss   dfl_loss  Instances       Size\r\n",
      "       1/50      15.1G      1.017      3.695      1.576         22        800: 1\r\n",
      "                 Class     Images  Instances      Box(P          R      mAP50  m\r\n",
      "                   all        144        144      0.459      0.508      0.434      0.341\r\n",
      "\r\n",
      "      Epoch    GPU_mem   box_loss   cls_loss   dfl_loss  Instances       Size\r\n",
      "       2/50      15.4G     0.9628      2.544      1.466         15        800: 1\r\n",
      "                 Class     Images  Instances      Box(P          R      mAP50  m\r\n",
      "                   all        144        144      0.607      0.395      0.482      0.333\r\n",
      "\r\n",
      "      Epoch    GPU_mem   box_loss   cls_loss   dfl_loss  Instances       Size\r\n",
      "       3/50      15.6G      0.984      2.288      1.476         19        800: 1\r\n",
      "                 Class     Images  Instances      Box(P          R      mAP50  m\r\n",
      "                   all        144        144      0.657      0.457      0.542      0.389\r\n",
      "\r\n",
      "      Epoch    GPU_mem   box_loss   cls_loss   dfl_loss  Instances       Size\r\n",
      "       4/50      15.3G     0.9711      2.114      1.457         21        800: 1\r\n",
      "                 Class     Images  Instances      Box(P          R      mAP50  m\r\n",
      "                   all        144        144      0.516      0.663       0.63      0.483\r\n",
      "\r\n",
      "      Epoch    GPU_mem   box_loss   cls_loss   dfl_loss  Instances       Size\r\n",
      "       5/50      15.4G     0.9696      2.001      1.463         21        800: 1\r\n",
      "                 Class     Images  Instances      Box(P          R      mAP50  m\r\n",
      "                   all        144        144      0.509      0.731      0.691      0.535\r\n",
      "\r\n",
      "      Epoch    GPU_mem   box_loss   cls_loss   dfl_loss  Instances       Size\r\n",
      "       6/50      15.4G     0.9378      1.804      1.424         23        800: 1\r\n",
      "                 Class     Images  Instances      Box(P          R      mAP50  m\r\n",
      "                   all        144        144      0.685      0.709       0.81      0.651\r\n",
      "\r\n",
      "      Epoch    GPU_mem   box_loss   cls_loss   dfl_loss  Instances       Size\r\n",
      "       7/50      15.6G     0.8934      1.707      1.385         22        800: 1\r\n",
      "                 Class     Images  Instances      Box(P          R      mAP50  m\r\n",
      "                   all        144        144      0.504      0.656      0.682      0.519\r\n",
      "\r\n",
      "      Epoch    GPU_mem   box_loss   cls_loss   dfl_loss  Instances       Size\r\n",
      "       8/50      15.3G     0.8813       1.62      1.367         19        800: 1\r\n",
      "                 Class     Images  Instances      Box(P          R      mAP50  m\r\n",
      "                   all        144        144      0.651      0.742      0.805      0.608\r\n",
      "\r\n",
      "      Epoch    GPU_mem   box_loss   cls_loss   dfl_loss  Instances       Size\r\n",
      "       9/50      15.4G     0.8572      1.594      1.353         17        800: 1\r\n",
      "                 Class     Images  Instances      Box(P          R      mAP50  m\r\n",
      "                   all        144        144      0.724      0.779      0.855      0.728\r\n",
      "\r\n",
      "      Epoch    GPU_mem   box_loss   cls_loss   dfl_loss  Instances       Size\r\n",
      "      10/50      15.4G     0.8457      1.457      1.339         16        800: 1\r\n",
      "                 Class     Images  Instances      Box(P          R      mAP50  m\r\n",
      "                   all        144        144      0.717      0.753      0.839      0.673\r\n",
      "\r\n",
      "      Epoch    GPU_mem   box_loss   cls_loss   dfl_loss  Instances       Size\r\n",
      "      11/50      15.6G     0.8302      1.356      1.317         22        800: 1\r\n",
      "                 Class     Images  Instances      Box(P          R      mAP50  m\r\n",
      "                   all        144        144      0.661      0.821       0.85      0.662\r\n",
      "\r\n",
      "      Epoch    GPU_mem   box_loss   cls_loss   dfl_loss  Instances       Size\r\n",
      "      12/50      15.3G     0.8129       1.35      1.312         11        800: 1\r\n",
      "                 Class     Images  Instances      Box(P          R      mAP50  m\r\n",
      "                   all        144        144      0.793       0.75      0.875        0.7\r\n",
      "\r\n",
      "      Epoch    GPU_mem   box_loss   cls_loss   dfl_loss  Instances       Size\r\n",
      "      13/50      15.4G      0.798      1.288      1.291         17        800: 1\r\n",
      "                 Class     Images  Instances      Box(P          R      mAP50  m\r\n",
      "                   all        144        144      0.864      0.764      0.906      0.692\r\n",
      "\r\n",
      "      Epoch    GPU_mem   box_loss   cls_loss   dfl_loss  Instances       Size\r\n",
      "      14/50      15.4G      0.771      1.197      1.281         17        800: 1\r\n",
      "                 Class     Images  Instances      Box(P          R      mAP50  m\r\n",
      "                   all        144        144       0.74      0.767      0.861      0.667\r\n",
      "\r\n",
      "      Epoch    GPU_mem   box_loss   cls_loss   dfl_loss  Instances       Size\r\n",
      "      15/50      15.6G      0.771      1.183      1.283         15        800: 1\r\n",
      "                 Class     Images  Instances      Box(P          R      mAP50  m\r\n",
      "                   all        144        144      0.854      0.831       0.91      0.707\r\n",
      "\r\n",
      "      Epoch    GPU_mem   box_loss   cls_loss   dfl_loss  Instances       Size\r\n",
      "      16/50      15.3G     0.7631      1.159      1.274         18        800: 1\r\n",
      "                 Class     Images  Instances      Box(P          R      mAP50  m\r\n",
      "                   all        144        144      0.726      0.843      0.881      0.717\r\n",
      "\r\n",
      "      Epoch    GPU_mem   box_loss   cls_loss   dfl_loss  Instances       Size\r\n",
      "      17/50      15.4G     0.7579       1.15      1.254         25        800: 1\r\n",
      "                 Class     Images  Instances      Box(P          R      mAP50  m\r\n",
      "                   all        144        144      0.894      0.833      0.925      0.746\r\n",
      "\r\n",
      "      Epoch    GPU_mem   box_loss   cls_loss   dfl_loss  Instances       Size\r\n",
      "      18/50      15.4G     0.7576      1.101      1.271         17        800: 1\r\n",
      "                 Class     Images  Instances      Box(P          R      mAP50  m\r\n",
      "                   all        144        144      0.895      0.813      0.929      0.717\r\n",
      "\r\n",
      "      Epoch    GPU_mem   box_loss   cls_loss   dfl_loss  Instances       Size\r\n",
      "      19/50      15.6G      0.723      1.011       1.23         14        800: 1\r\n",
      "                 Class     Images  Instances      Box(P          R      mAP50  m\r\n",
      "                   all        144        144      0.897      0.865       0.96      0.762\r\n",
      "\r\n",
      "      Epoch    GPU_mem   box_loss   cls_loss   dfl_loss  Instances       Size\r\n",
      "      20/50      15.3G     0.7323      1.047      1.238         12        800: 1\r\n",
      "                 Class     Images  Instances      Box(P          R      mAP50  m\r\n",
      "                   all        144        144      0.845      0.851      0.931      0.765\r\n",
      "\r\n",
      "      Epoch    GPU_mem   box_loss   cls_loss   dfl_loss  Instances       Size\r\n",
      "      21/50      15.4G     0.7126     0.9851      1.237         15        800: 1\r\n",
      "                 Class     Images  Instances      Box(P          R      mAP50  m\r\n",
      "                   all        144        144      0.857       0.85      0.928      0.759\r\n",
      "\r\n",
      "      Epoch    GPU_mem   box_loss   cls_loss   dfl_loss  Instances       Size\r\n",
      "      22/50      15.4G     0.6793     0.9314      1.205         24        800: 1\r\n",
      "                 Class     Images  Instances      Box(P          R      mAP50  m\r\n",
      "                   all        144        144      0.849      0.816      0.941      0.758\r\n",
      "\r\n",
      "      Epoch    GPU_mem   box_loss   cls_loss   dfl_loss  Instances       Size\r\n",
      "      23/50      15.6G     0.6862     0.9227       1.21         19        800: 1\r\n",
      "                 Class     Images  Instances      Box(P          R      mAP50  m\r\n",
      "                   all        144        144      0.876      0.859      0.932      0.741\r\n",
      "\r\n",
      "      Epoch    GPU_mem   box_loss   cls_loss   dfl_loss  Instances       Size\r\n",
      "      24/50      15.3G     0.6788     0.8878      1.203         17        800: 1\r\n",
      "                 Class     Images  Instances      Box(P          R      mAP50  m\r\n",
      "                   all        144        144      0.878       0.87      0.955      0.793\r\n",
      "\r\n",
      "      Epoch    GPU_mem   box_loss   cls_loss   dfl_loss  Instances       Size\r\n",
      "      25/50      15.4G     0.6785     0.8832      1.199         23        800: 1\r\n",
      "                 Class     Images  Instances      Box(P          R      mAP50  m\r\n",
      "                   all        144        144      0.833       0.91      0.955      0.775\r\n",
      "\r\n",
      "      Epoch    GPU_mem   box_loss   cls_loss   dfl_loss  Instances       Size\r\n",
      "      26/50      15.4G     0.6725     0.8687        1.2         18        800: 1\r\n",
      "                 Class     Images  Instances      Box(P          R      mAP50  m\r\n",
      "                   all        144        144      0.895      0.834      0.938      0.761\r\n",
      "\r\n",
      "      Epoch    GPU_mem   box_loss   cls_loss   dfl_loss  Instances       Size\r\n",
      "      27/50      15.6G     0.6657     0.8348      1.194         19        800: 1\r\n",
      "                 Class     Images  Instances      Box(P          R      mAP50  m\r\n",
      "                   all        144        144      0.878      0.868      0.938      0.746\r\n",
      "\r\n",
      "      Epoch    GPU_mem   box_loss   cls_loss   dfl_loss  Instances       Size\r\n",
      "      28/50      15.3G     0.6513     0.8313      1.189         21        800: 1\r\n",
      "                 Class     Images  Instances      Box(P          R      mAP50  m\r\n",
      "                   all        144        144      0.885      0.876      0.926      0.763\r\n",
      "\r\n",
      "      Epoch    GPU_mem   box_loss   cls_loss   dfl_loss  Instances       Size\r\n",
      "      29/50      15.4G     0.6582     0.7831      1.188         14        800: 1\r\n",
      "                 Class     Images  Instances      Box(P          R      mAP50  m\r\n",
      "                   all        144        144      0.889      0.824       0.92      0.748\r\n",
      "\r\n",
      "      Epoch    GPU_mem   box_loss   cls_loss   dfl_loss  Instances       Size\r\n",
      "      30/50      15.4G     0.6535     0.7883      1.185         24        800: 1\r\n",
      "                 Class     Images  Instances      Box(P          R      mAP50  m\r\n",
      "                   all        144        144      0.931       0.87      0.956      0.767\r\n",
      "\r\n",
      "      Epoch    GPU_mem   box_loss   cls_loss   dfl_loss  Instances       Size\r\n",
      "      31/50      15.6G     0.6407     0.7481      1.172         15        800: 1\r\n",
      "                 Class     Images  Instances      Box(P          R      mAP50  m\r\n",
      "                   all        144        144      0.915      0.855      0.937       0.76\r\n",
      "\r\n",
      "      Epoch    GPU_mem   box_loss   cls_loss   dfl_loss  Instances       Size\r\n",
      "      32/50      15.3G     0.6387     0.7333      1.169         20        800: 1\r\n",
      "                 Class     Images  Instances      Box(P          R      mAP50  m\r\n",
      "                   all        144        144      0.915      0.919      0.963      0.761\r\n",
      "\r\n",
      "      Epoch    GPU_mem   box_loss   cls_loss   dfl_loss  Instances       Size\r\n",
      "      33/50      15.4G     0.6297     0.7255      1.162         13        800: 1\r\n",
      "                 Class     Images  Instances      Box(P          R      mAP50  m\r\n",
      "                   all        144        144      0.922      0.891      0.957      0.768\r\n",
      "\r\n",
      "      Epoch    GPU_mem   box_loss   cls_loss   dfl_loss  Instances       Size\r\n",
      "      34/50      15.4G     0.6328     0.7255      1.166         18        800: 1\r\n",
      "                 Class     Images  Instances      Box(P          R      mAP50  m\r\n",
      "                   all        144        144      0.921      0.862      0.954      0.751\r\n",
      "\r\n",
      "      Epoch    GPU_mem   box_loss   cls_loss   dfl_loss  Instances       Size\r\n",
      "      35/50      15.6G      0.623     0.6944      1.165         22        800: 1\r\n",
      "                 Class     Images  Instances      Box(P          R      mAP50  m\r\n",
      "                   all        144        144       0.92       0.88      0.955      0.777\r\n",
      "\r\n",
      "      Epoch    GPU_mem   box_loss   cls_loss   dfl_loss  Instances       Size\r\n",
      "      36/50      15.2G     0.5928     0.6475      1.148         15        800: 1\r\n",
      "                 Class     Images  Instances      Box(P          R      mAP50  m\r\n",
      "                   all        144        144      0.938      0.892      0.959       0.79\r\n",
      "\r\n",
      "      Epoch    GPU_mem   box_loss   cls_loss   dfl_loss  Instances       Size\r\n",
      "      37/50      15.4G     0.5988     0.6716      1.145         23        800: 1\r\n",
      "                 Class     Images  Instances      Box(P          R      mAP50  m\r\n",
      "                   all        144        144      0.914      0.882      0.946      0.771\r\n",
      "\r\n",
      "      Epoch    GPU_mem   box_loss   cls_loss   dfl_loss  Instances       Size\r\n",
      "      38/50      15.4G     0.5848     0.6124       1.13         14        800: 1\r\n",
      "                 Class     Images  Instances      Box(P          R      mAP50  m\r\n",
      "                   all        144        144       0.91      0.894      0.953      0.773\r\n",
      "\r\n",
      "      Epoch    GPU_mem   box_loss   cls_loss   dfl_loss  Instances       Size\r\n",
      "      39/50      15.6G     0.5875     0.6187      1.142         16        800: 1\r\n",
      "                 Class     Images  Instances      Box(P          R      mAP50  m\r\n",
      "                   all        144        144      0.927       0.89      0.957      0.778\r\n",
      "\r\n",
      "      Epoch    GPU_mem   box_loss   cls_loss   dfl_loss  Instances       Size\r\n",
      "      40/50      15.3G     0.5839     0.6131       1.14         10        800: 1\r\n",
      "                 Class     Images  Instances      Box(P          R      mAP50  m\r\n",
      "                   all        144        144      0.936       0.91       0.96      0.782\r\n",
      "Closing dataloader mosaic\r\n",
      "\u001b[34m\u001b[1malbumentations: \u001b[0mBlur(p=0.01, blur_limit=(3, 7)), MedianBlur(p=0.01, blur_limit=(3, 7)), ToGray(p=0.01, num_output_channels=3, method='weighted_average'), CLAHE(p=0.01, clip_limit=(1, 4.0), tile_grid_size=(8, 8))\r\n",
      "/opt/conda/lib/python3.10/multiprocessing/popen_fork.py:66: RuntimeWarning: os.fork() was called. os.fork() is incompatible with multithreaded code, and JAX is multithreaded, so this will likely lead to a deadlock.\r\n",
      "  self.pid = os.fork()\r\n",
      "\r\n",
      "      Epoch    GPU_mem   box_loss   cls_loss   dfl_loss  Instances       Size\r\n",
      "      41/50      15.4G     0.4254     0.2742      1.055          8        800: 1\r\n",
      "                 Class     Images  Instances      Box(P          R      mAP50  m\r\n",
      "                   all        144        144      0.919      0.861      0.948      0.773\r\n",
      "\r\n",
      "      Epoch    GPU_mem   box_loss   cls_loss   dfl_loss  Instances       Size\r\n",
      "      42/50      15.4G     0.4116     0.2568      1.041          8        800: 1\r\n",
      "                 Class     Images  Instances      Box(P          R      mAP50  m\r\n",
      "                   all        144        144       0.93       0.91      0.957      0.807\r\n",
      "\r\n",
      "      Epoch    GPU_mem   box_loss   cls_loss   dfl_loss  Instances       Size\r\n",
      "      43/50      15.6G     0.3991     0.2471      1.031          8        800: 1\r\n",
      "                 Class     Images  Instances      Box(P          R      mAP50  m\r\n",
      "                   all        144        144       0.95      0.872      0.966      0.799\r\n",
      "\r\n",
      "      Epoch    GPU_mem   box_loss   cls_loss   dfl_loss  Instances       Size\r\n",
      "      44/50      15.3G     0.3969     0.2374      1.031          8        800: 1\r\n",
      "                 Class     Images  Instances      Box(P          R      mAP50  m\r\n",
      "                   all        144        144       0.95      0.893      0.966      0.782\r\n",
      "\r\n",
      "      Epoch    GPU_mem   box_loss   cls_loss   dfl_loss  Instances       Size\r\n",
      "      45/50      15.4G     0.3918     0.2354      1.022          8        800: 1\r\n",
      "                 Class     Images  Instances      Box(P          R      mAP50  m\r\n",
      "                   all        144        144      0.946      0.904      0.962      0.813\r\n",
      "\r\n",
      "      Epoch    GPU_mem   box_loss   cls_loss   dfl_loss  Instances       Size\r\n",
      "      46/50      15.4G     0.3789     0.2239      1.013          8        800: 1\r\n",
      "                 Class     Images  Instances      Box(P          R      mAP50  m\r\n",
      "                   all        144        144      0.945      0.907      0.965      0.791\r\n",
      "\r\n",
      "      Epoch    GPU_mem   box_loss   cls_loss   dfl_loss  Instances       Size\r\n",
      "      47/50      15.6G      0.369     0.2149      1.006          8        800: 1\r\n",
      "                 Class     Images  Instances      Box(P          R      mAP50  m\r\n",
      "                   all        144        144       0.97       0.89      0.965      0.793\r\n",
      "\r\n",
      "      Epoch    GPU_mem   box_loss   cls_loss   dfl_loss  Instances       Size\r\n",
      "      48/50      15.2G     0.3549     0.2076     0.9915          8        800: 1\r\n",
      "                 Class     Images  Instances      Box(P          R      mAP50  m\r\n",
      "                   all        144        144      0.966      0.894      0.967      0.806\r\n",
      "\r\n",
      "      Epoch    GPU_mem   box_loss   cls_loss   dfl_loss  Instances       Size\r\n",
      "      49/50      15.4G     0.3499     0.1982     0.9814          8        800: 1\r\n",
      "                 Class     Images  Instances      Box(P          R      mAP50  m\r\n",
      "                   all        144        144      0.961      0.884      0.965      0.791\r\n",
      "\r\n",
      "      Epoch    GPU_mem   box_loss   cls_loss   dfl_loss  Instances       Size\r\n",
      "      50/50      15.4G     0.3464     0.1981     0.9774          8        800: 1\r\n",
      "                 Class     Images  Instances      Box(P          R      mAP50  m\r\n",
      "                   all        144        144      0.955      0.901      0.966      0.795\r\n",
      "\r\n",
      "50 epochs completed in 1.726 hours.\r\n",
      "Optimizer stripped from ASL_Project/final_training/weights/last.pt, 87.7MB\r\n",
      "Optimizer stripped from ASL_Project/final_training/weights/best.pt, 87.7MB\r\n",
      "\r\n",
      "Validating ASL_Project/final_training/weights/best.pt...\r\n",
      "Ultralytics 8.3.23 🚀 Python-3.10.14 torch-2.4.0 CUDA:0 (Tesla T4, 15095MiB)\r\n",
      "Model summary (fused): 268 layers, 43,626,654 parameters, 0 gradients, 164.9 GFLOPs\r\n",
      "                 Class     Images  Instances      Box(P          R      mAP50  m\r\n",
      "                   all        144        144      0.947      0.904      0.962      0.813\r\n",
      "                     A          5          5      0.968        0.8      0.962       0.83\r\n",
      "                     B          9          9      0.939      0.889      0.984       0.86\r\n",
      "                     C          3          3          1      0.826      0.995      0.842\r\n",
      "                     D          6          6          1      0.935      0.995      0.868\r\n",
      "                     E          4          4          1      0.968      0.995      0.895\r\n",
      "                     F          8          8      0.937      0.875      0.982      0.835\r\n",
      "                     G          5          5      0.974          1      0.995      0.843\r\n",
      "                     H          9          9      0.984          1      0.995      0.785\r\n",
      "                     I          2          2       0.89        0.5      0.513      0.462\r\n",
      "                     J          8          8      0.978          1      0.995      0.693\r\n",
      "                     K          6          6      0.996      0.833      0.922      0.849\r\n",
      "                     L          4          4      0.947          1      0.995      0.832\r\n",
      "                     M          8          8          1      0.804      0.995      0.826\r\n",
      "                     N          4          4      0.906          1      0.995      0.866\r\n",
      "                     O          7          7      0.894      0.857      0.978      0.707\r\n",
      "                     P          7          7          1       0.88      0.995      0.776\r\n",
      "                     Q          4          4      0.958          1      0.995      0.795\r\n",
      "                     R          7          7          1       0.93      0.995      0.866\r\n",
      "                     S          4          4      0.926          1      0.995      0.855\r\n",
      "                     T          6          6      0.808      0.833      0.955      0.841\r\n",
      "                     U          7          7      0.964          1      0.995       0.84\r\n",
      "                     V          5          5      0.801      0.805      0.829      0.724\r\n",
      "                     W          3          3      0.902          1      0.995      0.853\r\n",
      "                     X          1          1      0.896          1      0.995      0.995\r\n",
      "                     Y          8          8          1      0.772      0.982      0.743\r\n",
      "                     Z          4          4      0.959          1      0.995      0.866\r\n",
      "Speed: 0.3ms preprocess, 25.1ms inference, 0.0ms loss, 2.0ms postprocess per image\r\n",
      "Results saved to \u001b[1mASL_Project/final_training\u001b[0m\r\n",
      "💡 Learn more at https://docs.ultralytics.com/modes/train\r\n"
     ]
    }
   ],
   "source": [
    "!yolo task=detect mode=train model=yolov8l.pt data={dataset.location}/data.yaml epochs=50 imgsz=800 project=ASL_Project name=final_training save=True"
   ]
  },
  {
   "cell_type": "code",
   "execution_count": 11,
   "id": "4b7e5d32",
   "metadata": {
    "execution": {
     "iopub.execute_input": "2024-10-27T02:54:21.270768Z",
     "iopub.status.busy": "2024-10-27T02:54:21.269930Z",
     "iopub.status.idle": "2024-10-27T02:54:22.300028Z",
     "shell.execute_reply": "2024-10-27T02:54:22.298821Z"
    },
    "papermill": {
     "duration": 1.45971,
     "end_time": "2024-10-27T02:54:22.302475",
     "exception": false,
     "start_time": "2024-10-27T02:54:20.842765",
     "status": "completed"
    },
    "tags": []
   },
   "outputs": [
    {
     "name": "stdout",
     "output_type": "stream",
     "text": [
      "ASL_Project\t    README.roboflow.txt  test\tvalid\t    yolov8l.pt\r\n",
      "README.dataset.txt  data.yaml\t\t train\tyolo11n.pt\r\n"
     ]
    }
   ],
   "source": [
    "!ls {dataset.location}\n"
   ]
  },
  {
   "cell_type": "code",
   "execution_count": null,
   "id": "51f450a9",
   "metadata": {
    "papermill": {
     "duration": 0.426504,
     "end_time": "2024-10-27T02:54:23.205746",
     "exception": false,
     "start_time": "2024-10-27T02:54:22.779242",
     "status": "completed"
    },
    "tags": []
   },
   "outputs": [],
   "source": []
  }
 ],
 "metadata": {
  "kaggle": {
   "accelerator": "nvidiaTeslaT4",
   "dataSources": [],
   "dockerImageVersionId": 30787,
   "isGpuEnabled": true,
   "isInternetEnabled": true,
   "language": "python",
   "sourceType": "notebook"
  },
  "kernelspec": {
   "display_name": "Python 3",
   "language": "python",
   "name": "python3"
  },
  "language_info": {
   "codemirror_mode": {
    "name": "ipython",
    "version": 3
   },
   "file_extension": ".py",
   "mimetype": "text/x-python",
   "name": "python",
   "nbconvert_exporter": "python",
   "pygments_lexer": "ipython3",
   "version": "3.10.14"
  },
  "papermill": {
   "default_parameters": {},
   "duration": 6323.542649,
   "end_time": "2024-10-27T02:54:24.452540",
   "environment_variables": {},
   "exception": null,
   "input_path": "__notebook__.ipynb",
   "output_path": "__notebook__.ipynb",
   "parameters": {},
   "start_time": "2024-10-27T01:09:00.909891",
   "version": "2.6.0"
  }
 },
 "nbformat": 4,
 "nbformat_minor": 5
}
