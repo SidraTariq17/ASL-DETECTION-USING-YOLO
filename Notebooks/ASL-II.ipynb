{
 "cells": [
  {
   "cell_type": "code",
   "execution_count": null,
   "id": "f0284ed6",
   "metadata": {
    "execution": {
     "iopub.execute_input": "2024-10-28T19:19:29.884550Z",
     "iopub.status.busy": "2024-10-28T19:19:29.883770Z",
     "iopub.status.idle": "2024-10-28T19:19:29.891191Z",
     "shell.execute_reply": "2024-10-28T19:19:29.890129Z",
     "shell.execute_reply.started": "2024-10-28T19:19:29.884492Z"
    },
    "papermill": {
     "duration": null,
     "end_time": null,
     "exception": null,
     "start_time": null,
     "status": "pending"
    },
    "tags": []
   },
   "outputs": [],
   "source": [
    "import os\n",
    "\n",
    "# List files in the /kaggle/working/ directory\n",
    "print(os.listdir('/kaggle/working/'))"
   ]
  },
  {
   "cell_type": "code",
   "execution_count": null,
   "id": "23048dd8",
   "metadata": {
    "execution": {
     "iopub.execute_input": "2024-10-28T19:19:29.893887Z",
     "iopub.status.busy": "2024-10-28T19:19:29.893047Z",
     "iopub.status.idle": "2024-10-28T19:19:29.904550Z",
     "shell.execute_reply": "2024-10-28T19:19:29.903572Z",
     "shell.execute_reply.started": "2024-10-28T19:19:29.893834Z"
    },
    "papermill": {
     "duration": null,
     "end_time": null,
     "exception": null,
     "start_time": null,
     "status": "pending"
    },
    "tags": []
   },
   "outputs": [],
   "source": [
    "import glob\n",
    "from IPython.display import Image, display"
   ]
  },
  {
   "cell_type": "code",
   "execution_count": null,
   "id": "f2ed665e",
   "metadata": {
    "execution": {
     "iopub.execute_input": "2024-10-28T19:19:29.909074Z",
     "iopub.status.busy": "2024-10-28T19:19:29.908193Z",
     "iopub.status.idle": "2024-10-28T19:19:29.916238Z",
     "shell.execute_reply": "2024-10-28T19:19:29.915024Z",
     "shell.execute_reply.started": "2024-10-28T19:19:29.909027Z"
    },
    "papermill": {
     "duration": null,
     "end_time": null,
     "exception": null,
     "start_time": null,
     "status": "pending"
    },
    "tags": []
   },
   "outputs": [],
   "source": [
    "from IPython import display\n",
    "display.clear_output()\n"
   ]
  },
  {
   "cell_type": "code",
   "execution_count": null,
   "id": "842a25b7",
   "metadata": {
    "execution": {
     "iopub.execute_input": "2024-10-28T19:19:29.920779Z",
     "iopub.status.busy": "2024-10-28T19:19:29.919535Z",
     "iopub.status.idle": "2024-10-28T19:19:31.239647Z",
     "shell.execute_reply": "2024-10-28T19:19:31.238489Z",
     "shell.execute_reply.started": "2024-10-28T19:19:29.920717Z"
    },
    "papermill": {
     "duration": null,
     "end_time": null,
     "exception": null,
     "start_time": null,
     "status": "pending"
    },
    "tags": []
   },
   "outputs": [],
   "source": [
    "!nvidia-smi"
   ]
  },
  {
   "cell_type": "code",
   "execution_count": null,
   "id": "0b9460fa",
   "metadata": {
    "execution": {
     "iopub.execute_input": "2024-10-28T19:19:31.242681Z",
     "iopub.status.busy": "2024-10-28T19:19:31.241896Z",
     "iopub.status.idle": "2024-10-28T19:19:31.247999Z",
     "shell.execute_reply": "2024-10-28T19:19:31.247086Z",
     "shell.execute_reply.started": "2024-10-28T19:19:31.242628Z"
    },
    "papermill": {
     "duration": null,
     "end_time": null,
     "exception": null,
     "start_time": null,
     "status": "pending"
    },
    "tags": []
   },
   "outputs": [],
   "source": [
    "HOME = os.getcwd()\n",
    "\n",
    "\n",
    "print(HOME)"
   ]
  },
  {
   "cell_type": "code",
   "execution_count": null,
   "id": "17712f73",
   "metadata": {
    "execution": {
     "iopub.execute_input": "2024-10-28T19:19:31.250072Z",
     "iopub.status.busy": "2024-10-28T19:19:31.249418Z",
     "iopub.status.idle": "2024-10-28T19:19:47.894624Z",
     "shell.execute_reply": "2024-10-28T19:19:47.893369Z",
     "shell.execute_reply.started": "2024-10-28T19:19:31.250040Z"
    },
    "papermill": {
     "duration": null,
     "end_time": null,
     "exception": null,
     "start_time": null,
     "status": "pending"
    },
    "tags": []
   },
   "outputs": [],
   "source": [
    "!pip install ultralytics"
   ]
  },
  {
   "cell_type": "code",
   "execution_count": null,
   "id": "772c53ac",
   "metadata": {
    "execution": {
     "iopub.execute_input": "2024-10-28T19:19:47.897413Z",
     "iopub.status.busy": "2024-10-28T19:19:47.896649Z",
     "iopub.status.idle": "2024-10-28T19:20:31.375110Z",
     "shell.execute_reply": "2024-10-28T19:20:31.374048Z",
     "shell.execute_reply.started": "2024-10-28T19:19:47.897367Z"
    },
    "papermill": {
     "duration": null,
     "end_time": null,
     "exception": null,
     "start_time": null,
     "status": "pending"
    },
    "tags": []
   },
   "outputs": [],
   "source": [
    "import ultralytics\n",
    "ultralytics.checks()"
   ]
  },
  {
   "cell_type": "code",
   "execution_count": null,
   "id": "d5ee4363",
   "metadata": {
    "execution": {
     "iopub.execute_input": "2024-10-28T19:20:31.376937Z",
     "iopub.status.busy": "2024-10-28T19:20:31.376399Z",
     "iopub.status.idle": "2024-10-28T19:20:45.963558Z",
     "shell.execute_reply": "2024-10-28T19:20:45.962277Z",
     "shell.execute_reply.started": "2024-10-28T19:20:31.376894Z"
    },
    "papermill": {
     "duration": null,
     "end_time": null,
     "exception": null,
     "start_time": null,
     "status": "pending"
    },
    "tags": []
   },
   "outputs": [],
   "source": [
    "!mkdir {HOME}/datasets\n",
    "%cd {HOME}/datasets\n",
    "\n",
    "!pip install roboflow"
   ]
  },
  {
   "cell_type": "code",
   "execution_count": null,
   "id": "00c124b1",
   "metadata": {
    "execution": {
     "iopub.execute_input": "2024-10-28T19:20:45.967955Z",
     "iopub.status.busy": "2024-10-28T19:20:45.967555Z",
     "iopub.status.idle": "2024-10-28T19:21:10.659614Z",
     "shell.execute_reply": "2024-10-28T19:21:10.658721Z",
     "shell.execute_reply.started": "2024-10-28T19:20:45.967913Z"
    },
    "papermill": {
     "duration": null,
     "end_time": null,
     "exception": null,
     "start_time": null,
     "status": "pending"
    },
    "tags": []
   },
   "outputs": [],
   "source": [
    "!pip install roboflow\n",
    "\n",
    "from roboflow import Roboflow\n",
    "rf = Roboflow(api_key=\"hMy9moATp2etps0iwcok\")\n",
    "project = rf.workspace(\"university-of-central-florida\").project(\"asl-alphabet-recognition\")\n",
    "version = project.version(7)\n",
    "dataset = version.download(\"yolov8\")"
   ]
  },
  {
   "cell_type": "code",
   "execution_count": null,
   "id": "fee377e3",
   "metadata": {
    "execution": {
     "iopub.execute_input": "2024-10-28T19:21:10.661379Z",
     "iopub.status.busy": "2024-10-28T19:21:10.661054Z",
     "iopub.status.idle": "2024-10-28T19:21:10.671218Z",
     "shell.execute_reply": "2024-10-28T19:21:10.670255Z",
     "shell.execute_reply.started": "2024-10-28T19:21:10.661341Z"
    },
    "papermill": {
     "duration": null,
     "end_time": null,
     "exception": null,
     "start_time": null,
     "status": "pending"
    },
    "tags": []
   },
   "outputs": [],
   "source": [
    "%cd {HOME}\n",
    "%cd {dataset.location}"
   ]
  },
  {
   "cell_type": "code",
   "execution_count": null,
   "id": "1e8b8d39",
   "metadata": {
    "execution": {
     "iopub.execute_input": "2024-10-28T19:21:10.672834Z",
     "iopub.status.busy": "2024-10-28T19:21:10.672477Z",
     "iopub.status.idle": "2024-10-28T19:21:10.686824Z",
     "shell.execute_reply": "2024-10-28T19:21:10.685868Z",
     "shell.execute_reply.started": "2024-10-28T19:21:10.672798Z"
    },
    "papermill": {
     "duration": null,
     "end_time": null,
     "exception": null,
     "start_time": null,
     "status": "pending"
    },
    "tags": []
   },
   "outputs": [],
   "source": [
    "# List files in the /kaggle/working/ directory\n",
    "print(os.listdir('/kaggle/working/'))"
   ]
  },
  {
   "cell_type": "code",
   "execution_count": null,
   "id": "dfcd1fff",
   "metadata": {
    "execution": {
     "iopub.execute_input": "2024-10-28T19:21:10.688261Z",
     "iopub.status.busy": "2024-10-28T19:21:10.687954Z",
     "iopub.status.idle": "2024-10-28T19:21:10.698972Z",
     "shell.execute_reply": "2024-10-28T19:21:10.698062Z",
     "shell.execute_reply.started": "2024-10-28T19:21:10.688230Z"
    },
    "papermill": {
     "duration": null,
     "end_time": null,
     "exception": null,
     "start_time": null,
     "status": "pending"
    },
    "tags": []
   },
   "outputs": [],
   "source": [
    "# List files in the /kaggle/working/ directory\n",
    "print(os.listdir('/kaggle/working/'))"
   ]
  },
  {
   "cell_type": "code",
   "execution_count": null,
   "id": "249014fc",
   "metadata": {
    "execution": {
     "iopub.execute_input": "2024-10-28T19:21:10.700602Z",
     "iopub.status.busy": "2024-10-28T19:21:10.700226Z",
     "iopub.status.idle": "2024-10-28T19:21:11.970437Z",
     "shell.execute_reply": "2024-10-28T19:21:11.969174Z",
     "shell.execute_reply.started": "2024-10-28T19:21:10.700568Z"
    },
    "papermill": {
     "duration": null,
     "end_time": null,
     "exception": null,
     "start_time": null,
     "status": "pending"
    },
    "tags": []
   },
   "outputs": [],
   "source": [
    "!rm -rf /kaggle/working/*\n"
   ]
  },
  {
   "cell_type": "code",
   "execution_count": null,
   "id": "10889ca9",
   "metadata": {
    "execution": {
     "iopub.execute_input": "2024-10-28T19:21:11.972346Z",
     "iopub.status.busy": "2024-10-28T19:21:11.972004Z",
     "iopub.status.idle": "2024-10-28T19:21:11.978060Z",
     "shell.execute_reply": "2024-10-28T19:21:11.977154Z",
     "shell.execute_reply.started": "2024-10-28T19:21:11.972308Z"
    },
    "papermill": {
     "duration": null,
     "end_time": null,
     "exception": null,
     "start_time": null,
     "status": "pending"
    },
    "tags": []
   },
   "outputs": [],
   "source": [
    "# List files in the /kaggle/working/ directory\n",
    "print(os.listdir('/kaggle/working/'))"
   ]
  },
  {
   "cell_type": "code",
   "execution_count": null,
   "id": "4862147f",
   "metadata": {
    "execution": {
     "iopub.execute_input": "2024-10-28T19:21:11.979522Z",
     "iopub.status.busy": "2024-10-28T19:21:11.979207Z",
     "iopub.status.idle": "2024-10-28T19:21:14.803046Z",
     "shell.execute_reply": "2024-10-28T19:21:14.802254Z",
     "shell.execute_reply.started": "2024-10-28T19:21:11.979476Z"
    },
    "papermill": {
     "duration": null,
     "end_time": null,
     "exception": null,
     "start_time": null,
     "status": "pending"
    },
    "tags": []
   },
   "outputs": [],
   "source": [
    "\n",
    "from roboflow import Roboflow\n",
    "rf = Roboflow(api_key=\"hMy9moATp2etps0iwcok\")\n",
    "\n",
    "project = rf.workspace(\"david-lee-d0rhs\").project(\"american-sign-language-letters\")\n",
    "version = project.version(1)\n",
    "\n",
    "# Set the location to a writable directory\n",
    "dataset = version.download(\"yolov8\", location=\"/kaggle/working/American-Sign-Language-Letters-1\")\n"
   ]
  },
  {
   "cell_type": "code",
   "execution_count": null,
   "id": "85803819",
   "metadata": {
    "execution": {
     "iopub.execute_input": "2024-10-28T19:21:14.804748Z",
     "iopub.status.busy": "2024-10-28T19:21:14.804361Z",
     "iopub.status.idle": "2024-10-28T19:21:14.810232Z",
     "shell.execute_reply": "2024-10-28T19:21:14.809207Z",
     "shell.execute_reply.started": "2024-10-28T19:21:14.804711Z"
    },
    "papermill": {
     "duration": null,
     "end_time": null,
     "exception": null,
     "start_time": null,
     "status": "pending"
    },
    "tags": []
   },
   "outputs": [],
   "source": [
    "# List files in the /kaggle/working/ directory\n",
    "print(os.listdir('/kaggle/working/'))"
   ]
  },
  {
   "cell_type": "code",
   "execution_count": null,
   "id": "d37d26a8",
   "metadata": {
    "execution": {
     "iopub.execute_input": "2024-10-28T19:21:16.147670Z",
     "iopub.status.busy": "2024-10-28T19:21:16.147303Z",
     "iopub.status.idle": "2024-10-28T19:21:16.155077Z",
     "shell.execute_reply": "2024-10-28T19:21:16.153990Z",
     "shell.execute_reply.started": "2024-10-28T19:21:16.147629Z"
    },
    "papermill": {
     "duration": null,
     "end_time": null,
     "exception": null,
     "start_time": null,
     "status": "pending"
    },
    "tags": []
   },
   "outputs": [],
   "source": [
    "%cd /kaggle/working"
   ]
  },
  {
   "cell_type": "code",
   "execution_count": null,
   "id": "d0609e0d",
   "metadata": {
    "execution": {
     "iopub.execute_input": "2024-10-28T19:24:05.999873Z",
     "iopub.status.busy": "2024-10-28T19:24:05.999152Z",
     "iopub.status.idle": "2024-10-28T20:35:39.284769Z",
     "shell.execute_reply": "2024-10-28T20:35:39.283492Z",
     "shell.execute_reply.started": "2024-10-28T19:24:05.999826Z"
    },
    "papermill": {
     "duration": null,
     "end_time": null,
     "exception": null,
     "start_time": null,
     "status": "pending"
    },
    "tags": []
   },
   "outputs": [],
   "source": [
    "!yolo task=detect mode=train model=/kaggle/input/best-pt/best.pt data={dataset.location}/data.yaml epochs=35 imgsz=800 save=True project=/kaggle/working/lbest.pt"
   ]
  },
  {
   "cell_type": "code",
   "execution_count": null,
   "id": "c30f7b93",
   "metadata": {
    "execution": {
     "iopub.execute_input": "2024-10-28T20:37:39.783967Z",
     "iopub.status.busy": "2024-10-28T20:37:39.783179Z",
     "iopub.status.idle": "2024-10-28T20:37:39.790359Z",
     "shell.execute_reply": "2024-10-28T20:37:39.789316Z",
     "shell.execute_reply.started": "2024-10-28T20:37:39.783921Z"
    },
    "papermill": {
     "duration": null,
     "end_time": null,
     "exception": null,
     "start_time": null,
     "status": "pending"
    },
    "tags": []
   },
   "outputs": [],
   "source": [
    "import os\n",
    "\n",
    "# Check if the lbest.pt file exists\n",
    "file_path = '/kaggle/working/lbest.pt'\n",
    "if os.path.exists(file_path):\n",
    "    print(f\"{file_path} exists.\")\n",
    "else:\n",
    "    print(f\"{file_path} does not exist.\")\n"
   ]
  },
  {
   "cell_type": "code",
   "execution_count": null,
   "id": "366658d5",
   "metadata": {
    "execution": {
     "iopub.execute_input": "2024-10-28T20:42:36.562811Z",
     "iopub.status.busy": "2024-10-28T20:42:36.562028Z",
     "iopub.status.idle": "2024-10-28T20:42:37.600871Z",
     "shell.execute_reply": "2024-10-28T20:42:37.599734Z",
     "shell.execute_reply.started": "2024-10-28T20:42:36.562766Z"
    },
    "papermill": {
     "duration": null,
     "end_time": null,
     "exception": null,
     "start_time": null,
     "status": "pending"
    },
    "tags": []
   },
   "outputs": [],
   "source": [
    "!ls /kaggle/working/lbest.pt/train2/"
   ]
  },
  {
   "cell_type": "code",
   "execution_count": null,
   "id": "e7c5d805",
   "metadata": {
    "execution": {
     "iopub.execute_input": "2024-10-28T20:44:11.766220Z",
     "iopub.status.busy": "2024-10-28T20:44:11.765825Z",
     "iopub.status.idle": "2024-10-28T20:44:11.783858Z",
     "shell.execute_reply": "2024-10-28T20:44:11.782974Z",
     "shell.execute_reply.started": "2024-10-28T20:44:11.766184Z"
    },
    "papermill": {
     "duration": null,
     "end_time": null,
     "exception": null,
     "start_time": null,
     "status": "pending"
    },
    "tags": []
   },
   "outputs": [],
   "source": [
    "%cd {HOME}\n",
    "Image(filename=f'{HOME}/lbest.pt/train2/confusion_matrix.png', width=900)"
   ]
  },
  {
   "cell_type": "code",
   "execution_count": null,
   "id": "b3371d3f",
   "metadata": {
    "execution": {
     "iopub.execute_input": "2024-10-28T20:45:13.584553Z",
     "iopub.status.busy": "2024-10-28T20:45:13.584123Z",
     "iopub.status.idle": "2024-10-28T20:45:13.602080Z",
     "shell.execute_reply": "2024-10-28T20:45:13.601158Z",
     "shell.execute_reply.started": "2024-10-28T20:45:13.584511Z"
    },
    "papermill": {
     "duration": null,
     "end_time": null,
     "exception": null,
     "start_time": null,
     "status": "pending"
    },
    "tags": []
   },
   "outputs": [],
   "source": [
    "%cd {HOME}\n",
    "Image(filename=f'{HOME}/lbest.pt/train2/results.png', width=600)"
   ]
  },
  {
   "cell_type": "code",
   "execution_count": null,
   "id": "8a93ed73",
   "metadata": {
    "execution": {
     "iopub.execute_input": "2024-10-28T20:46:10.860033Z",
     "iopub.status.busy": "2024-10-28T20:46:10.859633Z",
     "iopub.status.idle": "2024-10-28T20:46:10.877298Z",
     "shell.execute_reply": "2024-10-28T20:46:10.876463Z",
     "shell.execute_reply.started": "2024-10-28T20:46:10.859996Z"
    },
    "papermill": {
     "duration": null,
     "end_time": null,
     "exception": null,
     "start_time": null,
     "status": "pending"
    },
    "tags": []
   },
   "outputs": [],
   "source": [
    "\n",
    "%cd {HOME}\n",
    "Image(filename=f'{HOME}/lbest.pt/train2/val_batch0_pred.jpg', width=600)"
   ]
  },
  {
   "cell_type": "code",
   "execution_count": null,
   "id": "efc6fd65",
   "metadata": {
    "execution": {
     "iopub.execute_input": "2024-10-28T20:48:07.799437Z",
     "iopub.status.busy": "2024-10-28T20:48:07.798545Z",
     "iopub.status.idle": "2024-10-28T20:48:30.840808Z",
     "shell.execute_reply": "2024-10-28T20:48:30.839566Z",
     "shell.execute_reply.started": "2024-10-28T20:48:07.799379Z"
    },
    "papermill": {
     "duration": null,
     "end_time": null,
     "exception": null,
     "start_time": null,
     "status": "pending"
    },
    "tags": []
   },
   "outputs": [],
   "source": [
    "!yolo task=detect mode=val model={HOME}/lbest.pt/train2/weights/best.pt data={dataset.location}/data.yaml\n"
   ]
  },
  {
   "cell_type": "code",
   "execution_count": null,
   "id": "14c1a380",
   "metadata": {
    "execution": {
     "iopub.execute_input": "2024-10-28T20:50:34.813198Z",
     "iopub.status.busy": "2024-10-28T20:50:34.812774Z",
     "iopub.status.idle": "2024-10-28T20:50:47.219089Z",
     "shell.execute_reply": "2024-10-28T20:50:47.217898Z",
     "shell.execute_reply.started": "2024-10-28T20:50:34.813152Z"
    },
    "papermill": {
     "duration": null,
     "end_time": null,
     "exception": null,
     "start_time": null,
     "status": "pending"
    },
    "tags": []
   },
   "outputs": [],
   "source": [
    "%cd {HOME}\n",
    "!yolo task=detect mode=predict model={HOME}/lbest.pt/train2/weights/best.pt conf=0.25 source={dataset.location}/test/images\n"
   ]
  },
  {
   "cell_type": "code",
   "execution_count": null,
   "id": "612f458a",
   "metadata": {
    "execution": {
     "iopub.execute_input": "2024-10-28T20:51:32.539359Z",
     "iopub.status.busy": "2024-10-28T20:51:32.538556Z",
     "iopub.status.idle": "2024-10-28T20:51:32.559009Z",
     "shell.execute_reply": "2024-10-28T20:51:32.557985Z",
     "shell.execute_reply.started": "2024-10-28T20:51:32.539317Z"
    },
    "papermill": {
     "duration": null,
     "end_time": null,
     "exception": null,
     "start_time": null,
     "status": "pending"
    },
    "tags": []
   },
   "outputs": [],
   "source": [
    "import glob\n",
    "from IPython.display import Image, display\n",
    "\n",
    "for image_path in glob.glob(f'{HOME}/runs/detect/predict/*.jpg')[:3]:\n",
    "    display(Image(filename=image_path, width=600))\n",
    "    print(\"\\n\")"
   ]
  },
  {
   "cell_type": "code",
   "execution_count": null,
   "id": "ab6fac6d",
   "metadata": {
    "execution": {
     "iopub.execute_input": "2024-10-28T20:54:14.049745Z",
     "iopub.status.busy": "2024-10-28T20:54:14.048961Z",
     "iopub.status.idle": "2024-10-28T20:54:14.056720Z",
     "shell.execute_reply": "2024-10-28T20:54:14.055716Z",
     "shell.execute_reply.started": "2024-10-28T20:54:14.049690Z"
    },
    "papermill": {
     "duration": null,
     "end_time": null,
     "exception": null,
     "start_time": null,
     "status": "pending"
    },
    "tags": []
   },
   "outputs": [],
   "source": [
    "from IPython.display import FileLink\n",
    "\n",
    "# Replace with the correct path to best.pt in your notebook environment\n",
    "FileLink(r'/kaggle/working/lbest.pt/train2/weights/best.pt')"
   ]
  },
  {
   "cell_type": "code",
   "execution_count": null,
   "id": "5b2abc9e",
   "metadata": {
    "execution": {
     "iopub.execute_input": "2024-10-28T20:56:36.766322Z",
     "iopub.status.busy": "2024-10-28T20:56:36.765041Z",
     "iopub.status.idle": "2024-10-28T20:56:36.773004Z",
     "shell.execute_reply": "2024-10-28T20:56:36.771952Z",
     "shell.execute_reply.started": "2024-10-28T20:56:36.766273Z"
    },
    "papermill": {
     "duration": null,
     "end_time": null,
     "exception": null,
     "start_time": null,
     "status": "pending"
    },
    "tags": []
   },
   "outputs": [],
   "source": [
    "from IPython.display import FileLink\n",
    "\n",
    "# Replace with the correct path to best.pt in your notebook environment\n",
    "FileLink(r'/kaggle/working/lbest.pt/train2/weights/last.pt')"
   ]
  },
  {
   "cell_type": "code",
   "execution_count": null,
   "id": "f8ea77a7",
   "metadata": {
    "papermill": {
     "duration": null,
     "end_time": null,
     "exception": null,
     "start_time": null,
     "status": "pending"
    },
    "tags": []
   },
   "outputs": [],
   "source": []
  }
 ],
 "metadata": {
  "kaggle": {
   "accelerator": "none",
   "dataSources": [],
   "dockerImageVersionId": 30787,
   "isGpuEnabled": false,
   "isInternetEnabled": true,
   "language": "python",
   "sourceType": "notebook"
  },
  "kernelspec": {
   "display_name": "Python 3",
   "language": "python",
   "name": "python3"
  },
  "language_info": {
   "codemirror_mode": {
    "name": "ipython",
    "version": 3
   },
   "file_extension": ".py",
   "mimetype": "text/x-python",
   "name": "python",
   "nbconvert_exporter": "python",
   "pygments_lexer": "ipython3",
   "version": "3.10.14"
  },
  "papermill": {
   "default_parameters": {},
   "duration": 4.350475,
   "end_time": "2025-03-11T20:58:24.623478",
   "environment_variables": {},
   "exception": true,
   "input_path": "__notebook__.ipynb",
   "output_path": "__notebook__.ipynb",
   "parameters": {},
   "start_time": "2025-03-11T20:58:20.273003",
   "version": "2.6.0"
  }
 },
 "nbformat": 4,
 "nbformat_minor": 5
}
